{
 "cells": [
  {
   "attachments": {},
   "cell_type": "markdown",
   "metadata": {},
   "source": [
    "# data status\n",
    "- data path: /data/NIA50/50-2/data/NIA50/학습용데이터_pre4/Suwon\n",
    "- ImageSets\n",
    "- jsons\n",
    "- points\n",
    "- labels"
   ]
  },
  {
   "cell_type": "code",
   "execution_count": 2,
   "metadata": {},
   "outputs": [],
   "source": [
    "from collections import Counter\n",
    "\n"
   ]
  }
 ],
 "metadata": {
  "kernelspec": {
   "display_name": "pius311",
   "language": "python",
   "name": "python3"
  },
  "language_info": {
   "codemirror_mode": {
    "name": "ipython",
    "version": 3
   },
   "file_extension": ".py",
   "mimetype": "text/x-python",
   "name": "python",
   "nbconvert_exporter": "python",
   "pygments_lexer": "ipython3",
   "version": "3.11.0"
  },
  "orig_nbformat": 4,
  "vscode": {
   "interpreter": {
    "hash": "162e1a67a6dedeb317c4b342015eab102527d264c044b83f75a275cf523bd5ea"
   }
  }
 },
 "nbformat": 4,
 "nbformat_minor": 2
}
